{
 "cells": [
  {
   "cell_type": "code",
   "execution_count": 1,
   "metadata": {
    "colab": {
     "base_uri": "https://localhost:8080/",
     "height": 34
    },
    "colab_type": "code",
    "id": "R7u64fZqPr2F",
    "outputId": "591d937f-35c0-4c52-b225-f9a1b680e529"
   },
   "outputs": [],
   "source": [
    "# # Mount Data folder:\n",
    "\n",
    "# from google.colab import drive\n",
    "# drive.mount('/content/drive')\n",
    "\n",
    "MOVIE = '/home/nghia/Desktop/Lab/MovieRevenuePredicter'"
   ]
  },
  {
   "cell_type": "code",
   "execution_count": 2,
   "metadata": {
    "colab": {},
    "colab_type": "code",
    "id": "nysJ3OgEQOZD"
   },
   "outputs": [
    {
     "name": "stderr",
     "output_type": "stream",
     "text": [
      "/home/nghia/anaconda3/lib/python3.6/site-packages/h5py/__init__.py:36: FutureWarning: Conversion of the second argument of issubdtype from `float` to `np.floating` is deprecated. In future, it will be treated as `np.float64 == np.dtype(float).type`.\n",
      "  from ._conv import register_converters as _register_converters\n",
      "Using TensorFlow backend.\n"
     ]
    }
   ],
   "source": [
    "from functions import *"
   ]
  },
  {
   "cell_type": "code",
   "execution_count": 3,
   "metadata": {
    "colab": {
     "base_uri": "https://localhost:8080/",
     "height": 134
    },
    "colab_type": "code",
    "id": "3tDoScaBQJzV",
    "outputId": "01797146-249e-40de-870a-3c7119a37a7a"
   },
   "outputs": [
    {
     "data": {
      "text/plain": [
       "['obj',\n",
       " 'chrome_crawler.py',\n",
       " 'Run_crawl.ipynb',\n",
       " 'people_feats',\n",
       " 'exceptions.txt',\n",
       " 'genre.py',\n",
       " 'movie.py',\n",
       " 'Persons',\n",
       " 'more_people.txt',\n",
       " '__pycache__',\n",
       " 'PersonExceptions.txt',\n",
       " 'person.py',\n",
       " 'Person_Crawling.ipynb',\n",
       " 'Movies',\n",
       " 'README.md',\n",
       " 'lib.py',\n",
       " '.ipynb_checkpoints',\n",
       " '.git',\n",
       " 'functions.py',\n",
       " 'Studios',\n",
       " 'Studio_Crawling.ipynb',\n",
       " 'xpath.py',\n",
       " '.vscode',\n",
       " 'StudioExceptions.txt',\n",
       " 'Movies_Preprocess.ipynb']"
      ]
     },
     "execution_count": 3,
     "metadata": {},
     "output_type": "execute_result"
    }
   ],
   "source": [
    "os.listdir()"
   ]
  },
  {
   "cell_type": "markdown",
   "metadata": {
    "colab_type": "text",
    "id": "pIiezJtOrDVN"
   },
   "source": [
    "## 1. Movies"
   ]
  },
  {
   "cell_type": "markdown",
   "metadata": {
    "colab_type": "text",
    "id": "JT-YTcZVRS6G"
   },
   "source": [
    "### Load movies data:"
   ]
  },
  {
   "cell_type": "code",
   "execution_count": 4,
   "metadata": {
    "colab": {},
    "colab_type": "code",
    "id": "iiUQ76uZRle_"
   },
   "outputs": [],
   "source": [
    "movies_dir = MOVIE+'/Movies/'\n",
    "movies = [movies_dir + movie for movie in os.listdir(movies_dir)]\n",
    "\n",
    "movies_as_json = []\n",
    "for movie in movies:\n",
    "    with open(movie, 'r') as f:\n",
    "        try:\n",
    "            movies_as_json.append(json.load(f))\n",
    "        except:\n",
    "            continue\n",
    "        \n",
    "df = pd.DataFrame(movies_as_json)"
   ]
  },
  {
   "cell_type": "markdown",
   "metadata": {
    "colab_type": "text",
    "id": "cIMj5DDRosiX"
   },
   "source": [
    "### Remove bad rows"
   ]
  },
  {
   "cell_type": "code",
   "execution_count": 5,
   "metadata": {
    "colab": {
     "base_uri": "https://localhost:8080/",
     "height": 316
    },
    "colab_type": "code",
    "id": "Lwg1eErJSEN4",
    "outputId": "9c19ecbf-373d-43e5-a9ca-5253577f2f80"
   },
   "outputs": [
    {
     "data": {
      "text/html": [
       "<div>\n",
       "<style scoped>\n",
       "    .dataframe tbody tr th:only-of-type {\n",
       "        vertical-align: middle;\n",
       "    }\n",
       "\n",
       "    .dataframe tbody tr th {\n",
       "        vertical-align: top;\n",
       "    }\n",
       "\n",
       "    .dataframe thead th {\n",
       "        text-align: right;\n",
       "    }\n",
       "</style>\n",
       "<table border=\"1\" class=\"dataframe\">\n",
       "  <thead>\n",
       "    <tr style=\"text-align: right;\">\n",
       "      <th></th>\n",
       "      <th>actor</th>\n",
       "      <th>budget</th>\n",
       "      <th>composer</th>\n",
       "      <th>director</th>\n",
       "      <th>domestic</th>\n",
       "      <th>genre</th>\n",
       "      <th>id</th>\n",
       "      <th>lastseen</th>\n",
       "      <th>mpaa_rating</th>\n",
       "      <th>name</th>\n",
       "      <th>producer</th>\n",
       "      <th>release_date</th>\n",
       "      <th>revenue</th>\n",
       "      <th>runtime</th>\n",
       "      <th>writer</th>\n",
       "    </tr>\n",
       "  </thead>\n",
       "  <tbody>\n",
       "    <tr>\n",
       "      <th>0</th>\n",
       "      <td>[]</td>\n",
       "      <td>N/A</td>\n",
       "      <td>-</td>\n",
       "      <td>[]</td>\n",
       "      <td>$12,534,817</td>\n",
       "      <td>Horror</td>\n",
       "      <td>amityville2</td>\n",
       "      <td>-</td>\n",
       "      <td>R</td>\n",
       "      <td>Amityville II:\\nThe Possession</td>\n",
       "      <td>[]</td>\n",
       "      <td>September 24, 1982</td>\n",
       "      <td>-</td>\n",
       "      <td>1 hrs. 44 min.</td>\n",
       "      <td>[]</td>\n",
       "    </tr>\n",
       "    <tr>\n",
       "      <th>1</th>\n",
       "      <td>[]</td>\n",
       "      <td>N/A</td>\n",
       "      <td>-</td>\n",
       "      <td>[https://www.boxofficemojo.com/people/chart/?v...</td>\n",
       "      <td>$44,722</td>\n",
       "      <td>Drama</td>\n",
       "      <td>warathome</td>\n",
       "      <td>-</td>\n",
       "      <td>R</td>\n",
       "      <td>The War at Home</td>\n",
       "      <td>[]</td>\n",
       "      <td>November 22, 1996</td>\n",
       "      <td>-</td>\n",
       "      <td>1 hrs. 59 min.</td>\n",
       "      <td>[]</td>\n",
       "    </tr>\n",
       "    <tr>\n",
       "      <th>2</th>\n",
       "      <td>[]</td>\n",
       "      <td>N/A</td>\n",
       "      <td>-</td>\n",
       "      <td>[]</td>\n",
       "      <td>$6,646</td>\n",
       "      <td>Foreign</td>\n",
       "      <td>darkbluealmostblack</td>\n",
       "      <td>-</td>\n",
       "      <td>Unrated</td>\n",
       "      <td>DarkBlueAlmostBlack</td>\n",
       "      <td>[]</td>\n",
       "      <td>October 19, 2007</td>\n",
       "      <td>$2,171,323</td>\n",
       "      <td>1 hrs. 45 min.</td>\n",
       "      <td>[]</td>\n",
       "    </tr>\n",
       "    <tr>\n",
       "      <th>3</th>\n",
       "      <td>[]</td>\n",
       "      <td>N/A</td>\n",
       "      <td>-</td>\n",
       "      <td>[]</td>\n",
       "      <td>$137,221</td>\n",
       "      <td>Horror Comedy</td>\n",
       "      <td>severance</td>\n",
       "      <td>-</td>\n",
       "      <td>R</td>\n",
       "      <td>Severance</td>\n",
       "      <td>[]</td>\n",
       "      <td>May 18, 2007</td>\n",
       "      <td>$5,515,163</td>\n",
       "      <td>1 hrs. 36 min.</td>\n",
       "      <td>[]</td>\n",
       "    </tr>\n",
       "    <tr>\n",
       "      <th>4</th>\n",
       "      <td>[https://www.boxofficemojo.com/people/chart/?v...</td>\n",
       "      <td>N/A</td>\n",
       "      <td>None</td>\n",
       "      <td>[https://www.boxofficemojo.com/people/chart/?v...</td>\n",
       "      <td>$63,270,710</td>\n",
       "      <td>Comedy</td>\n",
       "      <td>dave</td>\n",
       "      <td>-</td>\n",
       "      <td>PG-13</td>\n",
       "      <td>Dave</td>\n",
       "      <td>[https://www.boxofficemojo.com/people/chart/?v...</td>\n",
       "      <td>May 7, 1993</td>\n",
       "      <td>-</td>\n",
       "      <td>1 hrs. 50 min.</td>\n",
       "      <td>[https://www.boxofficemojo.com/people/chart/?v...</td>\n",
       "    </tr>\n",
       "  </tbody>\n",
       "</table>\n",
       "</div>"
      ],
      "text/plain": [
       "                                               actor budget composer  \\\n",
       "0                                                 []    N/A        -   \n",
       "1                                                 []    N/A        -   \n",
       "2                                                 []    N/A        -   \n",
       "3                                                 []    N/A        -   \n",
       "4  [https://www.boxofficemojo.com/people/chart/?v...    N/A     None   \n",
       "\n",
       "                                            director     domestic  \\\n",
       "0                                                 []  $12,534,817   \n",
       "1  [https://www.boxofficemojo.com/people/chart/?v...      $44,722   \n",
       "2                                                 []       $6,646   \n",
       "3                                                 []     $137,221   \n",
       "4  [https://www.boxofficemojo.com/people/chart/?v...  $63,270,710   \n",
       "\n",
       "           genre                   id lastseen mpaa_rating  \\\n",
       "0         Horror          amityville2        -           R   \n",
       "1          Drama            warathome        -           R   \n",
       "2        Foreign  darkbluealmostblack        -     Unrated   \n",
       "3  Horror Comedy            severance        -           R   \n",
       "4         Comedy                 dave        -       PG-13   \n",
       "\n",
       "                             name  \\\n",
       "0  Amityville II:\\nThe Possession   \n",
       "1                 The War at Home   \n",
       "2             DarkBlueAlmostBlack   \n",
       "3                       Severance   \n",
       "4                            Dave   \n",
       "\n",
       "                                            producer        release_date  \\\n",
       "0                                                 []  September 24, 1982   \n",
       "1                                                 []   November 22, 1996   \n",
       "2                                                 []    October 19, 2007   \n",
       "3                                                 []        May 18, 2007   \n",
       "4  [https://www.boxofficemojo.com/people/chart/?v...         May 7, 1993   \n",
       "\n",
       "      revenue         runtime  \\\n",
       "0           -  1 hrs. 44 min.   \n",
       "1           -  1 hrs. 59 min.   \n",
       "2  $2,171,323  1 hrs. 45 min.   \n",
       "3  $5,515,163  1 hrs. 36 min.   \n",
       "4           -  1 hrs. 50 min.   \n",
       "\n",
       "                                              writer  \n",
       "0                                                 []  \n",
       "1                                                 []  \n",
       "2                                                 []  \n",
       "3                                                 []  \n",
       "4  [https://www.boxofficemojo.com/people/chart/?v...  "
      ]
     },
     "execution_count": 5,
     "metadata": {},
     "output_type": "execute_result"
    }
   ],
   "source": [
    "# df = pd.DataFrame(movies_as_json)\n",
    "df = df[df.genre.apply(lambda x: x not in ['Unrated', 'PG-13', 'Not Yet Rated', 'R'])]\n",
    "df = df[~((df.revenue == '-') & (df.domestic == '-'))]\n",
    "df.head()"
   ]
  },
  {
   "cell_type": "markdown",
   "metadata": {
    "colab_type": "text",
    "id": "l-9jF1lqpDsc"
   },
   "source": [
    "### Convert string columns to correct data type:"
   ]
  },
  {
   "cell_type": "code",
   "execution_count": 6,
   "metadata": {
    "colab": {
     "base_uri": "https://localhost:8080/",
     "height": 350
    },
    "colab_type": "code",
    "id": "_pqTJ-QrWpav",
    "outputId": "f5bd6fd6-2289-4173-c2fb-db4e625a1dac",
    "scrolled": true
   },
   "outputs": [],
   "source": [
    "df.budget = df.budget.apply(money_str2float)\n",
    "df.domestic = df.domestic.apply(money_str2float)\n",
    "df.revenue = df.revenue.apply(money_str2float)\n",
    "\n",
    "df.release_date = df.release_date.apply(parse_datetime)\n",
    "df.runtime = df.runtime.apply(time_str2mins)\n",
    "\n",
    "for feat in ['actor', 'director', 'producer', 'writer']:\n",
    "    df[feat] = df[feat].apply(lambda x: [get_id(item) for item in x])\n",
    "\n",
    "df.composer.fillna('-', inplace=True)\n",
    "df.composer = df.composer.apply(get_id)"
   ]
  },
  {
   "cell_type": "code",
   "execution_count": 7,
   "metadata": {},
   "outputs": [],
   "source": [
    "df.revenue = df[['revenue', 'domestic']].apply(lambda x: max(x[1], x[0]), axis=1)\n",
    "df.drop(['domestic'], axis=1, inplace=True)"
   ]
  },
  {
   "cell_type": "code",
   "execution_count": 8,
   "metadata": {},
   "outputs": [],
   "source": [
    "for feat in ['revenue', 'budget']:\n",
    "    df[feat] = df[feat] / 1e6\n",
    "    \n",
    "df['budget_available'] = ~df.budget.isnull()\n",
    "df['budget_available'] = df['budget_available'].astype(np.int8)\n",
    "\n",
    "df.release_date.fillna(np.datetime64(date(2018,1,1)))\n",
    "df = df[~df['release_date'].apply(lambda x: '2018-01-01' in str(x))]\n",
    "df['month'] = df['release_date'].apply(lambda x: int(str(x)[5:7]))\n",
    "\n",
    "df['season'] = df['month'].apply(get_season)\n",
    "df['movie_season'] = df['id'].apply(get_movie_season)\n",
    "\n",
    "for feat in ['actor', 'director', 'producer', 'writer']:\n",
    "    df['num_'+feat] = df[feat].apply(lambda x: len(x))"
   ]
  },
  {
   "cell_type": "code",
   "execution_count": 9,
   "metadata": {
    "scrolled": true
   },
   "outputs": [
    {
     "data": {
      "text/html": [
       "<div>\n",
       "<style scoped>\n",
       "    .dataframe tbody tr th:only-of-type {\n",
       "        vertical-align: middle;\n",
       "    }\n",
       "\n",
       "    .dataframe tbody tr th {\n",
       "        vertical-align: top;\n",
       "    }\n",
       "\n",
       "    .dataframe thead th {\n",
       "        text-align: right;\n",
       "    }\n",
       "</style>\n",
       "<table border=\"1\" class=\"dataframe\">\n",
       "  <thead>\n",
       "    <tr style=\"text-align: right;\">\n",
       "      <th></th>\n",
       "      <th>actor</th>\n",
       "      <th>budget</th>\n",
       "      <th>composer</th>\n",
       "      <th>director</th>\n",
       "      <th>genre</th>\n",
       "      <th>id</th>\n",
       "      <th>lastseen</th>\n",
       "      <th>mpaa_rating</th>\n",
       "      <th>name</th>\n",
       "      <th>producer</th>\n",
       "      <th>...</th>\n",
       "      <th>runtime</th>\n",
       "      <th>writer</th>\n",
       "      <th>budget_available</th>\n",
       "      <th>month</th>\n",
       "      <th>season</th>\n",
       "      <th>movie_season</th>\n",
       "      <th>num_actor</th>\n",
       "      <th>num_director</th>\n",
       "      <th>num_producer</th>\n",
       "      <th>num_writer</th>\n",
       "    </tr>\n",
       "  </thead>\n",
       "  <tbody>\n",
       "    <tr>\n",
       "      <th>0</th>\n",
       "      <td>[]</td>\n",
       "      <td>NaN</td>\n",
       "      <td>-</td>\n",
       "      <td>[]</td>\n",
       "      <td>Horror</td>\n",
       "      <td>amityville2</td>\n",
       "      <td>-</td>\n",
       "      <td>R</td>\n",
       "      <td>Amityville II:\\nThe Possession</td>\n",
       "      <td>[]</td>\n",
       "      <td>...</td>\n",
       "      <td>104.0</td>\n",
       "      <td>[]</td>\n",
       "      <td>0</td>\n",
       "      <td>9</td>\n",
       "      <td>3</td>\n",
       "      <td>2</td>\n",
       "      <td>0</td>\n",
       "      <td>0</td>\n",
       "      <td>0</td>\n",
       "      <td>0</td>\n",
       "    </tr>\n",
       "    <tr>\n",
       "      <th>1</th>\n",
       "      <td>[]</td>\n",
       "      <td>NaN</td>\n",
       "      <td>-</td>\n",
       "      <td>[kathybates]</td>\n",
       "      <td>Drama</td>\n",
       "      <td>warathome</td>\n",
       "      <td>-</td>\n",
       "      <td>R</td>\n",
       "      <td>The War at Home</td>\n",
       "      <td>[]</td>\n",
       "      <td>...</td>\n",
       "      <td>119.0</td>\n",
       "      <td>[]</td>\n",
       "      <td>0</td>\n",
       "      <td>11</td>\n",
       "      <td>3</td>\n",
       "      <td>1</td>\n",
       "      <td>0</td>\n",
       "      <td>1</td>\n",
       "      <td>0</td>\n",
       "      <td>0</td>\n",
       "    </tr>\n",
       "    <tr>\n",
       "      <th>2</th>\n",
       "      <td>[]</td>\n",
       "      <td>NaN</td>\n",
       "      <td>-</td>\n",
       "      <td>[]</td>\n",
       "      <td>Foreign</td>\n",
       "      <td>darkbluealmostblack</td>\n",
       "      <td>-</td>\n",
       "      <td>Unrated</td>\n",
       "      <td>DarkBlueAlmostBlack</td>\n",
       "      <td>[]</td>\n",
       "      <td>...</td>\n",
       "      <td>105.0</td>\n",
       "      <td>[]</td>\n",
       "      <td>0</td>\n",
       "      <td>10</td>\n",
       "      <td>3</td>\n",
       "      <td>1</td>\n",
       "      <td>0</td>\n",
       "      <td>0</td>\n",
       "      <td>0</td>\n",
       "      <td>0</td>\n",
       "    </tr>\n",
       "    <tr>\n",
       "      <th>3</th>\n",
       "      <td>[]</td>\n",
       "      <td>NaN</td>\n",
       "      <td>-</td>\n",
       "      <td>[]</td>\n",
       "      <td>Horror Comedy</td>\n",
       "      <td>severance</td>\n",
       "      <td>-</td>\n",
       "      <td>R</td>\n",
       "      <td>Severance</td>\n",
       "      <td>[]</td>\n",
       "      <td>...</td>\n",
       "      <td>96.0</td>\n",
       "      <td>[]</td>\n",
       "      <td>0</td>\n",
       "      <td>5</td>\n",
       "      <td>1</td>\n",
       "      <td>1</td>\n",
       "      <td>0</td>\n",
       "      <td>0</td>\n",
       "      <td>0</td>\n",
       "      <td>0</td>\n",
       "    </tr>\n",
       "    <tr>\n",
       "      <th>4</th>\n",
       "      <td>[kevinkline, sigourneyweaver, franklangella, b...</td>\n",
       "      <td>NaN</td>\n",
       "      <td>-</td>\n",
       "      <td>[ivanreitman]</td>\n",
       "      <td>Comedy</td>\n",
       "      <td>dave</td>\n",
       "      <td>-</td>\n",
       "      <td>PG-13</td>\n",
       "      <td>Dave</td>\n",
       "      <td>[laurenschulerdonner, joemedjuck, ivanreitman]</td>\n",
       "      <td>...</td>\n",
       "      <td>110.0</td>\n",
       "      <td>[garyross]</td>\n",
       "      <td>0</td>\n",
       "      <td>5</td>\n",
       "      <td>1</td>\n",
       "      <td>1</td>\n",
       "      <td>5</td>\n",
       "      <td>1</td>\n",
       "      <td>3</td>\n",
       "      <td>1</td>\n",
       "    </tr>\n",
       "  </tbody>\n",
       "</table>\n",
       "<p>5 rows × 22 columns</p>\n",
       "</div>"
      ],
      "text/plain": [
       "                                               actor  budget composer  \\\n",
       "0                                                 []     NaN        -   \n",
       "1                                                 []     NaN        -   \n",
       "2                                                 []     NaN        -   \n",
       "3                                                 []     NaN        -   \n",
       "4  [kevinkline, sigourneyweaver, franklangella, b...     NaN        -   \n",
       "\n",
       "        director          genre                   id lastseen mpaa_rating  \\\n",
       "0             []         Horror          amityville2        -           R   \n",
       "1   [kathybates]          Drama            warathome        -           R   \n",
       "2             []        Foreign  darkbluealmostblack        -     Unrated   \n",
       "3             []  Horror Comedy            severance        -           R   \n",
       "4  [ivanreitman]         Comedy                 dave        -       PG-13   \n",
       "\n",
       "                             name  \\\n",
       "0  Amityville II:\\nThe Possession   \n",
       "1                 The War at Home   \n",
       "2             DarkBlueAlmostBlack   \n",
       "3                       Severance   \n",
       "4                            Dave   \n",
       "\n",
       "                                         producer     ...     runtime  \\\n",
       "0                                              []     ...       104.0   \n",
       "1                                              []     ...       119.0   \n",
       "2                                              []     ...       105.0   \n",
       "3                                              []     ...        96.0   \n",
       "4  [laurenschulerdonner, joemedjuck, ivanreitman]     ...       110.0   \n",
       "\n",
       "       writer  budget_available month  season  movie_season  num_actor  \\\n",
       "0          []                 0     9       3             2          0   \n",
       "1          []                 0    11       3             1          0   \n",
       "2          []                 0    10       3             1          0   \n",
       "3          []                 0     5       1             1          0   \n",
       "4  [garyross]                 0     5       1             1          5   \n",
       "\n",
       "   num_director  num_producer  num_writer  \n",
       "0             0             0           0  \n",
       "1             1             0           0  \n",
       "2             0             0           0  \n",
       "3             0             0           0  \n",
       "4             1             3           1  \n",
       "\n",
       "[5 rows x 22 columns]"
      ]
     },
     "execution_count": 9,
     "metadata": {},
     "output_type": "execute_result"
    }
   ],
   "source": [
    "df.head()"
   ]
  },
  {
   "cell_type": "markdown",
   "metadata": {
    "colab_type": "text",
    "id": "onXZnSdvT9fO"
   },
   "source": [
    "## 2. Person:"
   ]
  },
  {
   "cell_type": "markdown",
   "metadata": {
    "colab_type": "text",
    "id": "kKBm98DTffUj"
   },
   "source": [
    "### Load person data:"
   ]
  },
  {
   "cell_type": "code",
   "execution_count": 10,
   "metadata": {
    "colab": {},
    "colab_type": "code",
    "id": "HxFif-pRfpwl"
   },
   "outputs": [],
   "source": [
    "persons_dir = MOVIE+'/Persons/'\n",
    "persons = [persons_dir + person for person in os.listdir(persons_dir)]\n",
    "\n",
    "persons_as_json = []\n",
    "for person in persons:\n",
    "    with open(person, 'r') as f:\n",
    "        try:\n",
    "            persons_as_json.append(json.load(f))\n",
    "        except:\n",
    "            continue\n",
    "df1 = pd.DataFrame(persons_as_json)"
   ]
  },
  {
   "cell_type": "code",
   "execution_count": 11,
   "metadata": {
    "colab": {
     "base_uri": "https://localhost:8080/",
     "height": 195
    },
    "colab_type": "code",
    "id": "RjnTQgNeryw1",
    "outputId": "b62ddc0d-f0c1-4618-a987-f703542e4b5e"
   },
   "outputs": [
    {
     "data": {
      "text/html": [
       "<div>\n",
       "<style scoped>\n",
       "    .dataframe tbody tr th:only-of-type {\n",
       "        vertical-align: middle;\n",
       "    }\n",
       "\n",
       "    .dataframe tbody tr th {\n",
       "        vertical-align: top;\n",
       "    }\n",
       "\n",
       "    .dataframe thead th {\n",
       "        text-align: right;\n",
       "    }\n",
       "</style>\n",
       "<table border=\"1\" class=\"dataframe\">\n",
       "  <thead>\n",
       "    <tr style=\"text-align: right;\">\n",
       "      <th></th>\n",
       "      <th>average</th>\n",
       "      <th>id</th>\n",
       "      <th>movies</th>\n",
       "      <th>name</th>\n",
       "      <th>role</th>\n",
       "    </tr>\n",
       "  </thead>\n",
       "  <tbody>\n",
       "    <tr>\n",
       "      <th>0</th>\n",
       "      <td>42,450,867</td>\n",
       "      <td>edwardnorton</td>\n",
       "      <td>[{'date': '3/23/18', 'title': 'isleofdogs', 's...</td>\n",
       "      <td>Edward Norton</td>\n",
       "      <td>Actors</td>\n",
       "    </tr>\n",
       "    <tr>\n",
       "      <th>1</th>\n",
       "      <td>76,459,162</td>\n",
       "      <td>rickygervais</td>\n",
       "      <td>[{'date': '12/19/14', 'title': 'nightatthemuse...</td>\n",
       "      <td>Ricky Gervais</td>\n",
       "      <td>Actors</td>\n",
       "    </tr>\n",
       "    <tr>\n",
       "      <th>2</th>\n",
       "      <td>24,993,931</td>\n",
       "      <td>naomiwatts</td>\n",
       "      <td>[{'date': '8/11/17', 'title': 'theglasscastle'...</td>\n",
       "      <td>Naomi Watts</td>\n",
       "      <td>Actors</td>\n",
       "    </tr>\n",
       "    <tr>\n",
       "      <th>3</th>\n",
       "      <td>336,840,977</td>\n",
       "      <td>jjabrams</td>\n",
       "      <td>[{'date': '12/18/15', 'title': 'starwars7', 's...</td>\n",
       "      <td>J.J. Abrams</td>\n",
       "      <td>Directors</td>\n",
       "    </tr>\n",
       "    <tr>\n",
       "      <th>4</th>\n",
       "      <td>3,614,619</td>\n",
       "      <td>johnsloss</td>\n",
       "      <td>[{'date': '11/3/17', 'title': 'lastflagflying'...</td>\n",
       "      <td>John Sloss</td>\n",
       "      <td>Producers</td>\n",
       "    </tr>\n",
       "  </tbody>\n",
       "</table>\n",
       "</div>"
      ],
      "text/plain": [
       "       average            id  \\\n",
       "0   42,450,867  edwardnorton   \n",
       "1   76,459,162  rickygervais   \n",
       "2   24,993,931    naomiwatts   \n",
       "3  336,840,977      jjabrams   \n",
       "4    3,614,619     johnsloss   \n",
       "\n",
       "                                              movies           name       role  \n",
       "0  [{'date': '3/23/18', 'title': 'isleofdogs', 's...  Edward Norton     Actors  \n",
       "1  [{'date': '12/19/14', 'title': 'nightatthemuse...  Ricky Gervais     Actors  \n",
       "2  [{'date': '8/11/17', 'title': 'theglasscastle'...    Naomi Watts     Actors  \n",
       "3  [{'date': '12/18/15', 'title': 'starwars7', 's...    J.J. Abrams  Directors  \n",
       "4  [{'date': '11/3/17', 'title': 'lastflagflying'...     John Sloss  Producers  "
      ]
     },
     "execution_count": 11,
     "metadata": {},
     "output_type": "execute_result"
    }
   ],
   "source": [
    "df1 = pd.DataFrame(persons_as_json)\n",
    "df1.head()"
   ]
  },
  {
   "cell_type": "markdown",
   "metadata": {
    "colab_type": "text",
    "id": "6uKuaRyerHM8"
   },
   "source": [
    "### Processing persons data:"
   ]
  },
  {
   "cell_type": "code",
   "execution_count": 12,
   "metadata": {
    "colab": {
     "base_uri": "https://localhost:8080/",
     "height": 195
    },
    "colab_type": "code",
    "id": "smpUersztBul",
    "outputId": "c4d332ea-0bf6-45d8-bc4d-20552a29dcc5"
   },
   "outputs": [
    {
     "data": {
      "text/html": [
       "<div>\n",
       "<style scoped>\n",
       "    .dataframe tbody tr th:only-of-type {\n",
       "        vertical-align: middle;\n",
       "    }\n",
       "\n",
       "    .dataframe tbody tr th {\n",
       "        vertical-align: top;\n",
       "    }\n",
       "\n",
       "    .dataframe thead th {\n",
       "        text-align: right;\n",
       "    }\n",
       "</style>\n",
       "<table border=\"1\" class=\"dataframe\">\n",
       "  <thead>\n",
       "    <tr style=\"text-align: right;\">\n",
       "      <th></th>\n",
       "      <th>average</th>\n",
       "      <th>id</th>\n",
       "      <th>movies</th>\n",
       "      <th>name</th>\n",
       "      <th>role</th>\n",
       "      <th>studio</th>\n",
       "    </tr>\n",
       "  </thead>\n",
       "  <tbody>\n",
       "    <tr>\n",
       "      <th>0</th>\n",
       "      <td>42450867.0</td>\n",
       "      <td>edwardnorton</td>\n",
       "      <td>[isleofdogs, collateralbeauty, sausageparty, b...</td>\n",
       "      <td>Edward Norton</td>\n",
       "      <td>Actors</td>\n",
       "      <td>[foxsearchlight, wb-newline, sony, foxsearchli...</td>\n",
       "    </tr>\n",
       "    <tr>\n",
       "      <th>1</th>\n",
       "      <td>76459162.0</td>\n",
       "      <td>rickygervais</td>\n",
       "      <td>[nightatthemuseum3, muppets2, escapefromplanet...</td>\n",
       "      <td>Ricky Gervais</td>\n",
       "      <td>Actors</td>\n",
       "      <td>[fox, buenavista, weinsteincompany, wdimension...</td>\n",
       "    </tr>\n",
       "    <tr>\n",
       "      <th>2</th>\n",
       "      <td>24993931.0</td>\n",
       "      <td>naomiwatts</td>\n",
       "      <td>[theglasscastle, thebookofhenry, chuck, aboutr...</td>\n",
       "      <td>Naomi Watts</td>\n",
       "      <td>Actors</td>\n",
       "      <td>[lionsgate, focus, ifc, weinsteincompany, euro...</td>\n",
       "    </tr>\n",
       "    <tr>\n",
       "      <th>3</th>\n",
       "      <td>336840977.0</td>\n",
       "      <td>jjabrams</td>\n",
       "      <td>[starwars7, startrek12, super8, startrek11, mi3]</td>\n",
       "      <td>J.J. Abrams</td>\n",
       "      <td>Directors</td>\n",
       "      <td>[buenavista, paramount, paramount, paramount, ...</td>\n",
       "    </tr>\n",
       "    <tr>\n",
       "      <th>4</th>\n",
       "      <td>3614619.0</td>\n",
       "      <td>johnsloss</td>\n",
       "      <td>[lastflagflying, boyhood, dealingwithidiots, b...</td>\n",
       "      <td>John Sloss</td>\n",
       "      <td>Producers</td>\n",
       "      <td>[lionsgate, ifc, ifc, sonyclassics, millennium...</td>\n",
       "    </tr>\n",
       "  </tbody>\n",
       "</table>\n",
       "</div>"
      ],
      "text/plain": [
       "       average            id  \\\n",
       "0   42450867.0  edwardnorton   \n",
       "1   76459162.0  rickygervais   \n",
       "2   24993931.0    naomiwatts   \n",
       "3  336840977.0      jjabrams   \n",
       "4    3614619.0     johnsloss   \n",
       "\n",
       "                                              movies           name  \\\n",
       "0  [isleofdogs, collateralbeauty, sausageparty, b...  Edward Norton   \n",
       "1  [nightatthemuseum3, muppets2, escapefromplanet...  Ricky Gervais   \n",
       "2  [theglasscastle, thebookofhenry, chuck, aboutr...    Naomi Watts   \n",
       "3   [starwars7, startrek12, super8, startrek11, mi3]    J.J. Abrams   \n",
       "4  [lastflagflying, boyhood, dealingwithidiots, b...     John Sloss   \n",
       "\n",
       "        role                                             studio  \n",
       "0     Actors  [foxsearchlight, wb-newline, sony, foxsearchli...  \n",
       "1     Actors  [fox, buenavista, weinsteincompany, wdimension...  \n",
       "2     Actors  [lionsgate, focus, ifc, weinsteincompany, euro...  \n",
       "3  Directors  [buenavista, paramount, paramount, paramount, ...  \n",
       "4  Producers  [lionsgate, ifc, ifc, sonyclassics, millennium...  "
      ]
     },
     "execution_count": 12,
     "metadata": {},
     "output_type": "execute_result"
    }
   ],
   "source": [
    "df_person = df1[df1.columns]\n",
    "df_person['studio'] = df_person.movies.apply(lambda x: [movie['studio'] for movie in x])\n",
    "df_person.movies = df_person.movies.apply(lambda x: [movie['title'] for movie in x])\n",
    "\n",
    "df_person.average = df_person.average.apply(money_str2float)\n",
    "df_person.head()"
   ]
  },
  {
   "cell_type": "code",
   "execution_count": null,
   "metadata": {
    "colab": {},
    "colab_type": "code",
    "id": "Uweyv2mOtD_N"
   },
   "outputs": [],
   "source": []
  },
  {
   "cell_type": "markdown",
   "metadata": {},
   "source": [
    "## 3. Studios:"
   ]
  },
  {
   "cell_type": "code",
   "execution_count": 13,
   "metadata": {},
   "outputs": [
    {
     "data": {
      "text/html": [
       "<div>\n",
       "<style scoped>\n",
       "    .dataframe tbody tr th:only-of-type {\n",
       "        vertical-align: middle;\n",
       "    }\n",
       "\n",
       "    .dataframe tbody tr th {\n",
       "        vertical-align: top;\n",
       "    }\n",
       "\n",
       "    .dataframe thead th {\n",
       "        text-align: right;\n",
       "    }\n",
       "</style>\n",
       "<table border=\"1\" class=\"dataframe\">\n",
       "  <thead>\n",
       "    <tr style=\"text-align: right;\">\n",
       "      <th></th>\n",
       "      <th>averages</th>\n",
       "      <th>id</th>\n",
       "      <th>name</th>\n",
       "      <th>totals</th>\n",
       "      <th>num_film</th>\n",
       "    </tr>\n",
       "  </thead>\n",
       "  <tbody>\n",
       "    <tr>\n",
       "      <th>0</th>\n",
       "      <td>149090.0</td>\n",
       "      <td>mmoore</td>\n",
       "      <td>MICHAEL MOORE</td>\n",
       "      <td>149090.0</td>\n",
       "      <td>1</td>\n",
       "    </tr>\n",
       "    <tr>\n",
       "      <th>1</th>\n",
       "      <td>34222.0</td>\n",
       "      <td>spitnglue</td>\n",
       "      <td>SPIT N' GLUE</td>\n",
       "      <td>34222.0</td>\n",
       "      <td>1</td>\n",
       "    </tr>\n",
       "    <tr>\n",
       "      <th>2</th>\n",
       "      <td>1477083.0</td>\n",
       "      <td>idp</td>\n",
       "      <td>IDP</td>\n",
       "      <td>93056220.0</td>\n",
       "      <td>63</td>\n",
       "    </tr>\n",
       "    <tr>\n",
       "      <th>3</th>\n",
       "      <td>114516.0</td>\n",
       "      <td>manray</td>\n",
       "      <td>MAN RAY ASSOC.</td>\n",
       "      <td>114516.0</td>\n",
       "      <td>1</td>\n",
       "    </tr>\n",
       "    <tr>\n",
       "      <th>4</th>\n",
       "      <td>473613.0</td>\n",
       "      <td>republic</td>\n",
       "      <td>REPUBLIC</td>\n",
       "      <td>947226.0</td>\n",
       "      <td>2</td>\n",
       "    </tr>\n",
       "  </tbody>\n",
       "</table>\n",
       "</div>"
      ],
      "text/plain": [
       "    averages         id            name      totals  num_film\n",
       "0   149090.0     mmoore   MICHAEL MOORE    149090.0         1\n",
       "1    34222.0  spitnglue    SPIT N' GLUE     34222.0         1\n",
       "2  1477083.0        idp             IDP  93056220.0        63\n",
       "3   114516.0     manray  MAN RAY ASSOC.    114516.0         1\n",
       "4   473613.0   republic        REPUBLIC    947226.0         2"
      ]
     },
     "execution_count": 13,
     "metadata": {},
     "output_type": "execute_result"
    }
   ],
   "source": [
    "studios_dir = MOVIE+'/Studios/'\n",
    "studios = [studios_dir + studio for studio in os.listdir(studios_dir)]\n",
    "\n",
    "studios_as_json = []\n",
    "for studio in studios:\n",
    "    with open(studio, 'r') as f:\n",
    "        try:\n",
    "            studios_as_json.append(json.load(f))\n",
    "        except:\n",
    "            continue\n",
    "df_studio = pd.DataFrame(studios_as_json)\n",
    "\n",
    "df_studio.totals = df_studio.totals.apply(lambda x: float(sub(r'[^\\d.]', '', x)))\n",
    "df_studio.averages = df_studio.averages.apply(lambda x: float(sub(r'[^\\d.]', '', x)))\n",
    "\n",
    "df_studio['num_film'] = df_studio.totals / df_studio.averages\n",
    "df_studio['num_film'] = df_studio['num_film'].apply(lambda x: int(x+.5))\n",
    "df_studio.head()"
   ]
  },
  {
   "cell_type": "code",
   "execution_count": null,
   "metadata": {},
   "outputs": [],
   "source": []
  },
  {
   "cell_type": "code",
   "execution_count": null,
   "metadata": {},
   "outputs": [],
   "source": []
  },
  {
   "cell_type": "markdown",
   "metadata": {
    "colab": {},
    "colab_type": "code",
    "id": "8QwH5ZD8teoP"
   },
   "source": [
    "## EDA:"
   ]
  },
  {
   "cell_type": "markdown",
   "metadata": {},
   "source": [
    "### Merge above dataFrames together:"
   ]
  },
  {
   "cell_type": "code",
   "execution_count": 14,
   "metadata": {},
   "outputs": [],
   "source": [
    "info_list = []\n",
    "\n",
    "df2 = df1[['id', 'movies', 'role']]\n",
    "for value in df2.values:\n",
    "    for film in value[1]:\n",
    "        info_list.append([value[0], film['date'], film['title'], film['studio'], value[-1], value[1]])"
   ]
  },
  {
   "cell_type": "code",
   "execution_count": 15,
   "metadata": {},
   "outputs": [
    {
     "data": {
      "text/html": [
       "<div>\n",
       "<style scoped>\n",
       "    .dataframe tbody tr th:only-of-type {\n",
       "        vertical-align: middle;\n",
       "    }\n",
       "\n",
       "    .dataframe tbody tr th {\n",
       "        vertical-align: top;\n",
       "    }\n",
       "\n",
       "    .dataframe thead th {\n",
       "        text-align: right;\n",
       "    }\n",
       "</style>\n",
       "<table border=\"1\" class=\"dataframe\">\n",
       "  <thead>\n",
       "    <tr style=\"text-align: right;\">\n",
       "      <th></th>\n",
       "      <th>person_name</th>\n",
       "      <th>date</th>\n",
       "      <th>movie</th>\n",
       "      <th>studio</th>\n",
       "      <th>role</th>\n",
       "      <th>movie_list</th>\n",
       "    </tr>\n",
       "  </thead>\n",
       "  <tbody>\n",
       "    <tr>\n",
       "      <th>0</th>\n",
       "      <td>edwardnorton</td>\n",
       "      <td>3/23/18</td>\n",
       "      <td>isleofdogs</td>\n",
       "      <td>foxsearchlight</td>\n",
       "      <td>Actors</td>\n",
       "      <td>[{'date': '3/23/18', 'title': 'isleofdogs', 's...</td>\n",
       "    </tr>\n",
       "    <tr>\n",
       "      <th>1</th>\n",
       "      <td>edwardnorton</td>\n",
       "      <td>12/16/16</td>\n",
       "      <td>collateralbeauty</td>\n",
       "      <td>wb-newline</td>\n",
       "      <td>Actors</td>\n",
       "      <td>[{'date': '3/23/18', 'title': 'isleofdogs', 's...</td>\n",
       "    </tr>\n",
       "    <tr>\n",
       "      <th>2</th>\n",
       "      <td>edwardnorton</td>\n",
       "      <td>8/12/16</td>\n",
       "      <td>sausageparty</td>\n",
       "      <td>sony</td>\n",
       "      <td>Actors</td>\n",
       "      <td>[{'date': '3/23/18', 'title': 'isleofdogs', 's...</td>\n",
       "    </tr>\n",
       "  </tbody>\n",
       "</table>\n",
       "</div>"
      ],
      "text/plain": [
       "    person_name      date             movie          studio    role  \\\n",
       "0  edwardnorton   3/23/18        isleofdogs  foxsearchlight  Actors   \n",
       "1  edwardnorton  12/16/16  collateralbeauty      wb-newline  Actors   \n",
       "2  edwardnorton   8/12/16      sausageparty            sony  Actors   \n",
       "\n",
       "                                          movie_list  \n",
       "0  [{'date': '3/23/18', 'title': 'isleofdogs', 's...  \n",
       "1  [{'date': '3/23/18', 'title': 'isleofdogs', 's...  \n",
       "2  [{'date': '3/23/18', 'title': 'isleofdogs', 's...  "
      ]
     },
     "execution_count": 15,
     "metadata": {},
     "output_type": "execute_result"
    }
   ],
   "source": [
    "df_info = pd.DataFrame(info_list)\n",
    "df_info.columns = ['person_name', 'date', 'movie', 'studio', 'role', 'movie_list']\n",
    "df_info = df_info[df_info['date'] != 'N/A']\n",
    "\n",
    "df_info.head(3)"
   ]
  },
  {
   "cell_type": "code",
   "execution_count": 16,
   "metadata": {
    "scrolled": true
   },
   "outputs": [],
   "source": [
    "# df_info['more_feats'] = df_info.apply(lambda x: get_person_info(x[-1], str2date(x[1])), axis=1)\n",
    "# df_info.head()"
   ]
  },
  {
   "cell_type": "code",
   "execution_count": 17,
   "metadata": {
    "scrolled": true
   },
   "outputs": [
    {
     "data": {
      "text/html": [
       "<div>\n",
       "<style scoped>\n",
       "    .dataframe tbody tr th:only-of-type {\n",
       "        vertical-align: middle;\n",
       "    }\n",
       "\n",
       "    .dataframe tbody tr th {\n",
       "        vertical-align: top;\n",
       "    }\n",
       "\n",
       "    .dataframe thead th {\n",
       "        text-align: right;\n",
       "    }\n",
       "</style>\n",
       "<table border=\"1\" class=\"dataframe\">\n",
       "  <thead>\n",
       "    <tr style=\"text-align: right;\">\n",
       "      <th></th>\n",
       "      <th>person_name</th>\n",
       "      <th>date</th>\n",
       "      <th>movie</th>\n",
       "      <th>studio</th>\n",
       "      <th>role</th>\n",
       "      <th>revenue</th>\n",
       "      <th>budget</th>\n",
       "      <th>name</th>\n",
       "      <th>year</th>\n",
       "    </tr>\n",
       "  </thead>\n",
       "  <tbody>\n",
       "    <tr>\n",
       "      <th>0</th>\n",
       "      <td>jacknicholson</td>\n",
       "      <td>1982-01-29</td>\n",
       "      <td>border</td>\n",
       "      <td>universal</td>\n",
       "      <td>Actors</td>\n",
       "      <td>6.118683</td>\n",
       "      <td>-1.0</td>\n",
       "      <td>The Border</td>\n",
       "      <td>1982</td>\n",
       "    </tr>\n",
       "    <tr>\n",
       "      <th>1</th>\n",
       "      <td>michaelchapman</td>\n",
       "      <td>1982-02-05</td>\n",
       "      <td>personalbest</td>\n",
       "      <td>warnerbros</td>\n",
       "      <td>Cinematographers</td>\n",
       "      <td>5.672311</td>\n",
       "      <td>-1.0</td>\n",
       "      <td>Personal Best</td>\n",
       "      <td>1982</td>\n",
       "    </tr>\n",
       "    <tr>\n",
       "      <th>2</th>\n",
       "      <td>wolfgangpeterson</td>\n",
       "      <td>1982-02-10</td>\n",
       "      <td>dasboot</td>\n",
       "      <td>columbia</td>\n",
       "      <td>Directors</td>\n",
       "      <td>10.915250</td>\n",
       "      <td>-1.0</td>\n",
       "      <td>Das Boot</td>\n",
       "      <td>1982</td>\n",
       "    </tr>\n",
       "    <tr>\n",
       "      <th>3</th>\n",
       "      <td>ianbaker</td>\n",
       "      <td>1982-02-19</td>\n",
       "      <td>barbarosa</td>\n",
       "      <td>universal</td>\n",
       "      <td>Cinematographers</td>\n",
       "      <td>1.736123</td>\n",
       "      <td>-1.0</td>\n",
       "      <td>Barbarosa</td>\n",
       "      <td>1982</td>\n",
       "    </tr>\n",
       "    <tr>\n",
       "      <th>4</th>\n",
       "      <td>jerrybruckheimer</td>\n",
       "      <td>1982-04-02</td>\n",
       "      <td>catpeople</td>\n",
       "      <td>universal</td>\n",
       "      <td>Producers</td>\n",
       "      <td>7.000000</td>\n",
       "      <td>-1.0</td>\n",
       "      <td>Cat People</td>\n",
       "      <td>1982</td>\n",
       "    </tr>\n",
       "  </tbody>\n",
       "</table>\n",
       "</div>"
      ],
      "text/plain": [
       "        person_name        date         movie      studio              role  \\\n",
       "0     jacknicholson  1982-01-29        border   universal            Actors   \n",
       "1    michaelchapman  1982-02-05  personalbest  warnerbros  Cinematographers   \n",
       "2  wolfgangpeterson  1982-02-10       dasboot    columbia         Directors   \n",
       "3          ianbaker  1982-02-19     barbarosa   universal  Cinematographers   \n",
       "4  jerrybruckheimer  1982-04-02     catpeople   universal         Producers   \n",
       "\n",
       "     revenue  budget           name  year  \n",
       "0   6.118683    -1.0     The Border  1982  \n",
       "1   5.672311    -1.0  Personal Best  1982  \n",
       "2  10.915250    -1.0       Das Boot  1982  \n",
       "3   1.736123    -1.0      Barbarosa  1982  \n",
       "4   7.000000    -1.0     Cat People  1982  "
      ]
     },
     "execution_count": 17,
     "metadata": {},
     "output_type": "execute_result"
    }
   ],
   "source": [
    "df_metadata = pd.merge(df_info.drop('movie_list', axis=1), df[['id', 'revenue', 'budget', 'name']].rename(columns={'id':'movie'}), how='left', on='movie')\n",
    "df_metadata.fillna(-1, inplace=True)\n",
    "df_metadata = df_metadata[df_metadata.revenue > 0]\n",
    "df_metadata = df_metadata[df_metadata.date != '1/1/00']\n",
    "df_metadata.date = df_metadata.date.apply(lambda x: str(str2date(x)))\n",
    "df_metadata = df_metadata.sort_values('date', ascending=True).reset_index(drop=True)\n",
    "df_metadata['year'] = df_metadata.date.apply(lambda x: x[:4])\n",
    "df_metadata = df_metadata[df_metadata.year < '2018']\n",
    "df_metadata.head()"
   ]
  },
  {
   "cell_type": "code",
   "execution_count": null,
   "metadata": {},
   "outputs": [],
   "source": []
  },
  {
   "cell_type": "markdown",
   "metadata": {},
   "source": [
    "#### Top 10 movies by revenue"
   ]
  },
  {
   "cell_type": "code",
   "execution_count": 18,
   "metadata": {},
   "outputs": [
    {
     "data": {
      "text/plain": [
       "<matplotlib.axes._subplots.AxesSubplot at 0x7fca2bc62198>"
      ]
     },
     "execution_count": 18,
     "metadata": {},
     "output_type": "execute_result"
    },
    {
     "data": {
      "image/png": "[encoded data removed]",
      "text/plain": [
       "<Figure size 576x360 with 1 Axes>"
      ]
     },
     "metadata": {},
     "output_type": "display_data"
    }
   ],
   "source": [
    "df_metadata[['movie', 'revenue']].drop_duplicates().sort_values('revenue', ascending=False)\\\n",
    "                                 .iloc[:10, :].plot.bar(x='movie', y='revenue', figsize=(8,5))"
   ]
  },
  {
   "cell_type": "markdown",
   "metadata": {},
   "source": [
    "#### Number of movies per year:"
   ]
  },
  {
   "cell_type": "code",
   "execution_count": 19,
   "metadata": {
    "scrolled": false
   },
   "outputs": [
    {
     "data": {
      "image/png": "[encoded data removed]",
      "text/plain": [
       "<Figure size 720x432 with 1 Axes>"
      ]
     },
     "metadata": {},
     "output_type": "display_data"
    }
   ],
   "source": [
    "gr_by(df_metadata, value='movie', method='count').plot.bar(x='year', y='movie', figsize=(10,6))\n",
    "plt.savefig('obj/num_movies.png', dpi=200)"
   ]
  },
  {
   "cell_type": "markdown",
   "metadata": {},
   "source": [
    "#### Top 20 genre by revenue:"
   ]
  },
  {
   "cell_type": "code",
   "execution_count": 20,
   "metadata": {},
   "outputs": [
    {
     "data": {
      "image/png": "[encoded data removed]",
      "text/plain": [
       "<Figure size 720x432 with 1 Axes>"
      ]
     },
     "metadata": {},
     "output_type": "display_data"
    }
   ],
   "source": [
    "gr_by(df, key='genre').sort_values('revenue', ascending=False).iloc[:20]\\\n",
    "                                                  .plot.bar(x='genre', y='revenue', figsize=(10,6))\n",
    "plt.savefig('obj/revenue_genres.png', dpi=200)"
   ]
  },
  {
   "cell_type": "markdown",
   "metadata": {},
   "source": [
    "#### MPAA rating (sorted by avg. revenue): "
   ]
  },
  {
   "cell_type": "code",
   "execution_count": 21,
   "metadata": {
    "scrolled": false
   },
   "outputs": [
    {
     "data": {
      "image/png": "[encoded data removed]",
      "text/plain": [
       "<Figure size 720x432 with 1 Axes>"
      ]
     },
     "metadata": {},
     "output_type": "display_data"
    }
   ],
   "source": [
    "gr_by(df, key='mpaa_rating').sort_values('revenue', ascending=False).iloc[:20]\\\n",
    "                            .plot.bar(x='mpaa_rating', y='revenue', figsize=(10,6), title='Avg. revenue by MPAA')\n",
    "plt.savefig('obj/revenue_mpaa_rating.png', dpi=200)"
   ]
  },
  {
   "cell_type": "markdown",
   "metadata": {},
   "source": [
    "#### Revenue by month:"
   ]
  },
  {
   "cell_type": "code",
   "execution_count": 22,
   "metadata": {},
   "outputs": [
    {
     "data": {
      "image/png": "[encoded data removed]",
      "text/plain": [
       "<Figure size 720x432 with 1 Axes>"
      ]
     },
     "metadata": {},
     "output_type": "display_data"
    }
   ],
   "source": [
    "gr_by(df, key='month').plot.bar(x='month', y='revenue', figsize=(10,6), title='Avg. revenue by month')\n",
    "plt.savefig('obj/revenue_month.png', dpi=200)"
   ]
  },
  {
   "cell_type": "markdown",
   "metadata": {},
   "source": [
    "#### Revenue by movie season:"
   ]
  },
  {
   "cell_type": "code",
   "execution_count": 23,
   "metadata": {},
   "outputs": [
    {
     "data": {
      "image/png": "[encoded data removed]",
      "text/plain": [
       "<Figure size 720x432 with 1 Axes>"
      ]
     },
     "metadata": {},
     "output_type": "display_data"
    }
   ],
   "source": [
    "gr_by(df, key='movie_season').plot.bar(x='movie_season', y='revenue', figsize=(10,6), title='Avg. revenue by movie_season')\n",
    "plt.savefig('obj/revenue_movie_season.png', dpi=200)"
   ]
  },
  {
   "cell_type": "markdown",
   "metadata": {},
   "source": [
    "#### Compare revenue vs budget of movies:"
   ]
  },
  {
   "cell_type": "code",
   "execution_count": 24,
   "metadata": {},
   "outputs": [
    {
     "data": {
      "image/png": "[encoded data removed]",
      "text/plain": [
       "<Figure size 720x432 with 1 Axes>"
      ]
     },
     "metadata": {},
     "output_type": "display_data"
    }
   ],
   "source": [
    "ax = gr_by(df_metadata).plot.area(x='year', y='revenue', figsize=(10,6))\n",
    "gr_by(df_metadata, value='budget').plot.area(x='year', y='budget', ax=ax)\n",
    "\n",
    "ax.set_xticklabels([str(year) for year in range(1977, 2018, 5)])\n",
    "\n",
    "plt.savefig('obj/visual_revenue_vs_budget.png', dpi=200)"
   ]
  },
  {
   "cell_type": "markdown",
   "metadata": {},
   "source": [
    "#### Top 5 studios by revenue:"
   ]
  },
  {
   "cell_type": "code",
   "execution_count": 25,
   "metadata": {},
   "outputs": [
    {
     "data": {
      "text/html": [
       "<div>\n",
       "<style scoped>\n",
       "    .dataframe tbody tr th:only-of-type {\n",
       "        vertical-align: middle;\n",
       "    }\n",
       "\n",
       "    .dataframe tbody tr th {\n",
       "        vertical-align: top;\n",
       "    }\n",
       "\n",
       "    .dataframe thead th {\n",
       "        text-align: right;\n",
       "    }\n",
       "</style>\n",
       "<table border=\"1\" class=\"dataframe\">\n",
       "  <thead>\n",
       "    <tr style=\"text-align: right;\">\n",
       "      <th></th>\n",
       "      <th>studio</th>\n",
       "      <th>avg. revenue</th>\n",
       "      <th>last 3 movies</th>\n",
       "    </tr>\n",
       "  </thead>\n",
       "  <tbody>\n",
       "    <tr>\n",
       "      <th>0</th>\n",
       "      <td>pardw</td>\n",
       "      <td>399.573303</td>\n",
       "      <td>Transformers: Dark of the Moon, Transformers: ...</td>\n",
       "    </tr>\n",
       "    <tr>\n",
       "      <th>1</th>\n",
       "      <td>buenavista</td>\n",
       "      <td>334.330277</td>\n",
       "      <td>You Again, Zootopia, crazy/beautiful</td>\n",
       "    </tr>\n",
       "    <tr>\n",
       "      <th>2</th>\n",
       "      <td>summitentertainment</td>\n",
       "      <td>265.212692</td>\n",
       "      <td>The Twilight Saga:\\nEclipse, The Twilight Saga...</td>\n",
       "    </tr>\n",
       "    <tr>\n",
       "      <th>3</th>\n",
       "      <td>wb-newline</td>\n",
       "      <td>252.415275</td>\n",
       "      <td>Vacation, Valentine's Day, We're the Millers</td>\n",
       "    </tr>\n",
       "    <tr>\n",
       "      <th>4</th>\n",
       "      <td>fox</td>\n",
       "      <td>213.707021</td>\n",
       "      <td>X2: X-Men United, Young Guns, Young Guns II</td>\n",
       "    </tr>\n",
       "  </tbody>\n",
       "</table>\n",
       "</div>"
      ],
      "text/plain": [
       "                studio  avg. revenue  \\\n",
       "0                pardw    399.573303   \n",
       "1           buenavista    334.330277   \n",
       "2  summitentertainment    265.212692   \n",
       "3           wb-newline    252.415275   \n",
       "4                  fox    213.707021   \n",
       "\n",
       "                                       last 3 movies  \n",
       "0  Transformers: Dark of the Moon, Transformers: ...  \n",
       "1               You Again, Zootopia, crazy/beautiful  \n",
       "2  The Twilight Saga:\\nEclipse, The Twilight Saga...  \n",
       "3       Vacation, Valentine's Day, We're the Millers  \n",
       "4        X2: X-Men United, Young Guns, Young Guns II  "
      ]
     },
     "execution_count": 25,
     "metadata": {},
     "output_type": "execute_result"
    }
   ],
   "source": [
    "df_metadata.groupby('studio').agg({'revenue':'mean', 'name':lambda x: ', '.join(np.unique(x)[-3:])})\\\n",
    "                             .reset_index().sort_values('revenue', ascending=False).reset_index(drop=True)\\\n",
    "                             .rename(columns={'name':'last 3 movies', 'revenue':'avg. revenue'}).head(5)"
   ]
  },
  {
   "cell_type": "markdown",
   "metadata": {},
   "source": [
    "#### Top 5 actors by revenue of movies they joined:"
   ]
  },
  {
   "cell_type": "code",
   "execution_count": 26,
   "metadata": {},
   "outputs": [
    {
     "data": {
      "text/html": [
       "<div>\n",
       "<style scoped>\n",
       "    .dataframe tbody tr th:only-of-type {\n",
       "        vertical-align: middle;\n",
       "    }\n",
       "\n",
       "    .dataframe tbody tr th {\n",
       "        vertical-align: top;\n",
       "    }\n",
       "\n",
       "    .dataframe thead th {\n",
       "        text-align: right;\n",
       "    }\n",
       "</style>\n",
       "<table border=\"1\" class=\"dataframe\">\n",
       "  <thead>\n",
       "    <tr style=\"text-align: right;\">\n",
       "      <th></th>\n",
       "      <th>person_name</th>\n",
       "      <th>avg. revenue of movies</th>\n",
       "      <th>last 3 movies</th>\n",
       "    </tr>\n",
       "  </thead>\n",
       "  <tbody>\n",
       "    <tr>\n",
       "      <th>0</th>\n",
       "      <td>daisyridley</td>\n",
       "      <td>1134.644288</td>\n",
       "      <td>Star Wars: The Force Awakens, Star Wars: The L...</td>\n",
       "    </tr>\n",
       "    <tr>\n",
       "      <th>1</th>\n",
       "      <td>petermayhew</td>\n",
       "      <td>1130.694856</td>\n",
       "      <td>Return of the Jedi, Star Wars:\\nEpisode III - ...</td>\n",
       "    </tr>\n",
       "    <tr>\n",
       "      <th>2</th>\n",
       "      <td>jonlandau</td>\n",
       "      <td>1078.178937</td>\n",
       "      <td>Honey, I Shrunk the Kids, Solaris, Titanic</td>\n",
       "    </tr>\n",
       "    <tr>\n",
       "      <th>3</th>\n",
       "      <td>leeunkrich</td>\n",
       "      <td>1066.969703</td>\n",
       "      <td>Toy Story 3</td>\n",
       "    </tr>\n",
       "    <tr>\n",
       "      <th>4</th>\n",
       "      <td>treyparker</td>\n",
       "      <td>1034.799409</td>\n",
       "      <td>Despicable Me 3</td>\n",
       "    </tr>\n",
       "  </tbody>\n",
       "</table>\n",
       "</div>"
      ],
      "text/plain": [
       "   person_name  avg. revenue of movies  \\\n",
       "0  daisyridley             1134.644288   \n",
       "1  petermayhew             1130.694856   \n",
       "2    jonlandau             1078.178937   \n",
       "3   leeunkrich             1066.969703   \n",
       "4   treyparker             1034.799409   \n",
       "\n",
       "                                       last 3 movies  \n",
       "0  Star Wars: The Force Awakens, Star Wars: The L...  \n",
       "1  Return of the Jedi, Star Wars:\\nEpisode III - ...  \n",
       "2         Honey, I Shrunk the Kids, Solaris, Titanic  \n",
       "3                                        Toy Story 3  \n",
       "4                                    Despicable Me 3  "
      ]
     },
     "execution_count": 26,
     "metadata": {},
     "output_type": "execute_result"
    }
   ],
   "source": [
    "df_metadata.groupby('person_name').agg({'revenue':'mean', 'name':lambda x: ', '.join(np.unique(x)[-3:])})\\\n",
    "                             .reset_index().sort_values('revenue', ascending=False).reset_index(drop=True)\\\n",
    "                             .rename(columns={'name':'last 3 movies', 'revenue':'avg. revenue of movies'}).head(5)"
   ]
  },
  {
   "cell_type": "code",
   "execution_count": null,
   "metadata": {},
   "outputs": [],
   "source": []
  },
  {
   "cell_type": "code",
   "execution_count": 27,
   "metadata": {},
   "outputs": [],
   "source": [
    "# gr_by(df, 'genre')"
   ]
  },
  {
   "cell_type": "code",
   "execution_count": 28,
   "metadata": {},
   "outputs": [],
   "source": [
    "# df.head()"
   ]
  },
  {
   "cell_type": "code",
   "execution_count": 29,
   "metadata": {},
   "outputs": [],
   "source": [
    "# for i in range(len(person_feats)):\n",
    "#     df_info[person_feats[i]] = df_info.more_feats.apply(lambda x: x[i])\n",
    "# df_info.drop(['date', 'movie_list', 'more_feats'], axis=1, inplace=True)\n",
    "# df.genre = df.genre.apply(lambda x: x[:x.index('-')] if '-' in x else x)\n",
    "# df_info.head()"
   ]
  },
  {
   "cell_type": "code",
   "execution_count": 30,
   "metadata": {
    "scrolled": true
   },
   "outputs": [],
   "source": [
    "# save_obj(df_info, 'obj/people_feats')\n",
    "# save_obj(df, 'obj/movie_feats')"
   ]
  },
  {
   "cell_type": "code",
   "execution_count": 31,
   "metadata": {},
   "outputs": [],
   "source": [
    "# from lib import *\n",
    "# import keras\n",
    "# from sklearn.preprocessing import LabelEncoder"
   ]
  },
  {
   "cell_type": "code",
   "execution_count": 32,
   "metadata": {},
   "outputs": [],
   "source": [
    "# df_info = load_obj('obj/people_feats')\n",
    "# df = load_obj('obj/movie_feats')\n",
    "# print(df.shape)\n",
    "# df = df[df['release_date'].apply(lambda x: str(x)[:10] < '2018-06-01')]\n",
    "# label_encoder = LabelEncoder()\n",
    "# df.shape"
   ]
  },
  {
   "cell_type": "code",
   "execution_count": 33,
   "metadata": {
    "scrolled": true
   },
   "outputs": [],
   "source": [
    "# def get_rank(revenue):\n",
    "#     if revenue <  1                    : return 0\n",
    "#     if revenue >= 1   and revenue < 20 : return 1\n",
    "#     if revenue >= 20  and revenue < 50 : return 2\n",
    "#     if revenue >= 50  and revenue < 200: return 3\n",
    "#     if revenue >= 200 and revenue < 500: return 4\n",
    "#     if revenue >  500                  : return 5\n",
    "    \n",
    "# df.revenue = df.revenue.apply(get_rank)\n",
    "# df.head()"
   ]
  },
  {
   "cell_type": "code",
   "execution_count": 34,
   "metadata": {},
   "outputs": [],
   "source": [
    "# df.groupby('revenue').count()"
   ]
  },
  {
   "cell_type": "code",
   "execution_count": 35,
   "metadata": {},
   "outputs": [],
   "source": [
    "# df1 = df[['id', 'lastseen']]\n",
    "# drop_movies = df[df.id.isin(df1[df1['lastseen'].str.contains('2018')].id.values)].id.values\n",
    "# df = df[~df.id.isin(drop_movies)]\n",
    "# df.drop(['lastseen'], axis=1, inplace=True)\n",
    "# del df1\n",
    "# gc.collect()\n",
    "\n",
    "# df1 = df.groupby('genre').agg({'id':'count'}).sort_values('id', ascending=False).reset_index()\n",
    "# drop_genres = np.append(df1[df1.id < 25].genre.unique(), 'Unknow')\n",
    "# del df1\n",
    "# gc.collect()\n",
    "\n",
    "# df.mpaa_rating = df.mpaa_rating.apply(lambda x: 'Unknown' if x in ['Unrated', 'Not Yet Rated'] else x)"
   ]
  },
  {
   "cell_type": "code",
   "execution_count": 36,
   "metadata": {},
   "outputs": [],
   "source": [
    "# df.budget = df.budget.fillna(-1)\n",
    "# df.genre = df.genre.apply(lambda x: 'Others' if x in drop_genres else x)\n",
    "# available_person_info = df_info.person_name.unique()\n",
    "# df['composer_available'] = df.composer.apply(lambda x: x in available_person_info).astype(np.int8)\n",
    "# df.head()"
   ]
  },
  {
   "cell_type": "code",
   "execution_count": 37,
   "metadata": {
    "scrolled": false
   },
   "outputs": [],
   "source": [
    "# df1 = df.groupby('genre').agg({'id':'count'}).sort_values('id', ascending=False).reset_index()\n",
    "# df1['genre_id'] = df1.index\n",
    "# df = pd.merge(df, df1[['genre', 'genre_id']], on='genre', how='left')\n",
    "# genre_onehot = keras.utils.to_categorical(df.genre_id.values)\n",
    "# for i in range(df1.genre.values.shape[0]):\n",
    "#     df['is_' + df1.genre.values[i]] = genre_onehot[:,i].ravel()\n",
    "    \n",
    "# del df1\n",
    "# gc.collect()\n",
    "\n",
    "\n",
    "# tmp_mpaa = label_encoder.fit_transform(df.mpaa_rating.values)\n",
    "# mpaa_onehot = keras.utils.to_categorical(tmp_mpaa)\n",
    "\n",
    "# for i in range(mpaa_onehot.shape[1]):\n",
    "#     df['mpaa_' + df.mpaa_rating.unique()[i]] = mpaa_onehot[:,i].ravel()\n",
    "    \n",
    "# df.drop(['genre_id'], axis=1, inplace=True)\n",
    "\n",
    "# df.runtime = df.runtime.fillna(df.runtime.mean())\n",
    "# df.head()"
   ]
  },
  {
   "cell_type": "code",
   "execution_count": 38,
   "metadata": {
    "scrolled": true
   },
   "outputs": [],
   "source": [
    "# df.columns"
   ]
  },
  {
   "cell_type": "code",
   "execution_count": 39,
   "metadata": {},
   "outputs": [],
   "source": [
    "\n",
    "# from sklearn.model_selection import train_test_split\n",
    "\n",
    "# incomplete_cols = ['actor', 'director', 'composer', 'genre', 'id', 'mpaa_rating', 'name',\\\n",
    "#                    'producer', 'release_date', 'revenue', 'writer']\n",
    "# split_day = '2016-06-01'\n",
    "\n",
    "# df = df.sample(frac=1)\n",
    "\n",
    "# # df_train = df.iloc[:7000, :] # df[df.release_date.apply(lambda x: str(x)[:10] < split_day)]\n",
    "# # df_val = df.iloc[7000:, :] # df[df.release_date.apply(lambda x: str(x)[:10] >= split_day)]\n",
    "\n",
    "# # X_train = df_train.drop(incomplete_cols, axis=1).values\n",
    "# # y_train = df_train['revenue'].values\n",
    "\n",
    "# # X_val = df_val.drop(incomplete_cols, axis=1).values\n",
    "# # y_val = df_val['revenue'].values\n",
    "\n",
    "# # std_scaler = StandardScaler()\n",
    " \n",
    "# # std_scaler.fit(X_train)\n",
    "# # X_train = std_scaler.transform(X_train)\n",
    "# # X_val = std_scaler.transform(X_val)\n",
    "\n",
    "# X = df.drop(incomplete_cols, axis=1).values\n",
    "# y = df['revenue'].values\n",
    "\n",
    "# X_train, X_val, y_train, y_val = train_test_split(X, y)\n",
    "\n",
    "\n",
    "# y_train = keras.utils.to_categorical(y_train, num_classes=9)\n",
    "# y_val = keras.utils.to_categorical(y_val, num_classes=9)\n",
    "\n",
    "# X_train.shape, y_train.shape, X_val.shape, y_val.shape"
   ]
  },
  {
   "cell_type": "code",
   "execution_count": 40,
   "metadata": {},
   "outputs": [],
   "source": [
    "# keras.__version__"
   ]
  },
  {
   "cell_type": "code",
   "execution_count": 41,
   "metadata": {
    "scrolled": true
   },
   "outputs": [],
   "source": [
    "# model = Sequential()\n",
    "# model.add(Dense(64, activation='relu', input_dim=63))\n",
    "# model.add(Dropout(0.1))\n",
    "# model.add(Dense(128, activation='relu'))\n",
    "# model.add(Dropout(0.1))\n",
    "# model.add(Dense(256, activation='relu'))\n",
    "# model.add(Dropout(0.1))\n",
    "# model.add(Dense(32, activation='relu'))\n",
    "# model.add(Dropout(0.1))\n",
    "# model.add(Dense(9, activation='softmax'))\n",
    "\n",
    "# optimizer = Adam(lr=0.01, decay=1e-6)\n",
    "# model.compile(loss='mean_squared_error',\n",
    "#               optimizer=optimizer)\n",
    "\n",
    "# model.fit(X_train, y_train, batch_size=16, epochs=20)"
   ]
  },
  {
   "cell_type": "code",
   "execution_count": 42,
   "metadata": {},
   "outputs": [],
   "source": [
    "# model.summary()"
   ]
  },
  {
   "cell_type": "code",
   "execution_count": 43,
   "metadata": {},
   "outputs": [],
   "source": [
    "# pred = model.predict(X_val)\n",
    "# preds = [np.argmax(p) for p in pred]# pred =\n",
    "# df_pred = pd.DataFrame([preds, y_vals])\n",
    "# df_pred = df_pred.T\n",
    "# df_pred.columns = ['actual', 'pred']\n",
    "# df_pred['count'] = df_pred.actual == df_pred.pred\n",
    "# # df_pred.groupby(['actual', 'pred']).agg({'count':'sum'}).reset_index()\n",
    "# y_vals = [np.argmax(p) for p in y_val]"
   ]
  },
  {
   "cell_type": "code",
   "execution_count": 44,
   "metadata": {},
   "outputs": [],
   "source": [
    "# # pred =\n",
    "# df_pred = pd.DataFrame([preds, y_vals])\n",
    "# df_pred = df_pred.T\n",
    "# df_pred.columns = ['actual', 'pred']\n",
    "# df_pred['count'] = df_pred.actual == df_pred.pred\n",
    "# # df_pred.groupby(['actual', 'pred']).agg({'count':'sum'}).reset_index()"
   ]
  },
  {
   "cell_type": "code",
   "execution_count": 45,
   "metadata": {},
   "outputs": [],
   "source": [
    "# df.groupby('revenue').count()"
   ]
  },
  {
   "cell_type": "code",
   "execution_count": 46,
   "metadata": {},
   "outputs": [],
   "source": [
    "# df_person[df_person.role.isin(['Actors', 'Directors'])]"
   ]
  },
  {
   "cell_type": "code",
   "execution_count": 47,
   "metadata": {
    "scrolled": true
   },
   "outputs": [],
   "source": [
    "# df[df['movie_season']<1][['name', 'id', 'movie_season']]"
   ]
  },
  {
   "cell_type": "code",
   "execution_count": null,
   "metadata": {},
   "outputs": [],
   "source": []
  }
 ],
 "metadata": {
  "colab": {
   "collapsed_sections": [],
   "name": "Movies_Preprocess.ipynb",
   "provenance": [],
   "version": "0.3.2"
  },
  "kernelspec": {
   "display_name": "Python 3",
   "language": "python",
   "name": "python3"
  },
  "language_info": {
   "codemirror_mode": {
    "name": "ipython",
    "version": 3
   },
   "file_extension": ".py",
   "mimetype": "text/x-python",
   "name": "python",
   "nbconvert_exporter": "python",
   "pygments_lexer": "ipython3",
   "version": "3.6.5"
  }
 },
 "nbformat": 4,
 "nbformat_minor": 1
}
