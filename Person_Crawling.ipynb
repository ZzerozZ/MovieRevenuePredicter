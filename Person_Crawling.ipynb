{
 "cells": [
  {
   "cell_type": "code",
   "execution_count": 1,
   "metadata": {},
   "outputs": [],
   "source": [
    "from chrome_crawler import Chrome_Crawler\n",
    "from lib import *"
   ]
  },
  {
   "cell_type": "code",
   "execution_count": null,
   "metadata": {
    "scrolled": true
   },
   "outputs": [],
   "source": []
  },
  {
   "cell_type": "code",
   "execution_count": 2,
   "metadata": {},
   "outputs": [],
   "source": [
    "PERSON_XPATH = {\n",
    "    'name':'/html[1]/body[1]/div[1]/div[3]/div[2]/table[2]/tbody[1]/tr[1]/td[1]/h1[1]',\n",
    "    'role':'/html[1]/body[1]/div[1]/div[3]/div[2]/h2[1]',\n",
    "    'movie': {\n",
    "        'date'          :'/html[1]/body[1]/div[1]/div[3]/div[2]/table[2]/tbody[1]/tr[1]/td[1]/table[1]/tbody[1]/tr/td[1]/font[1]',\n",
    "        'title'         :'/html[1]/body[1]/div[1]/div[3]/div[2]/table[2]/tbody[1]/tr[1]/td[1]/table[1]/tbody[1]/tr/td[2]/font[1]/a[1]',\n",
    "        'studio'        :'/html[1]/body[1]/div[1]/div[3]/div[2]/table[2]/tbody[1]/tr[1]/td[1]/table[1]/tbody[1]/tr/td[3]/font[1]/a[1]',\n",
    "        'lifetimeGross' :'/html[1]/body[1]/div[1]/div[3]/div[2]/table[2]/tbody[1]/tr[1]/td[1]/table[1]/tbody[1]/tr/td[4]/font[1]',\n",
    "        'opening'       :'/html[1]/body[1]/div[1]/div[3]/div[2]/table[2]/tbody[1]/tr[1]/td[1]/table[1]/tbody[1]/tr/td[6]/font[1]',\n",
    "    },\n",
    "    'average':'/html[1]/body[1]/div[1]/div[3]/div[2]/table[2]/tbody[1]/tr[1]/td[1]/font[2]/b[1]'\n",
    "}\n",
    "PEOPLE = 'https://www.boxofficemojo.com/people/chart/?view=&id=%s.htm'"
   ]
  },
  {
   "cell_type": "code",
   "execution_count": 3,
   "metadata": {},
   "outputs": [
    {
     "name": "stderr",
     "output_type": "stream",
     "text": [
      "C:\\ProgramData\\Anaconda3\\lib\\site-packages\\ipykernel_launcher.py:4: DeprecationWarning: use options instead of chrome_options\n",
      "  after removing the cwd from sys.path.\n"
     ]
    }
   ],
   "source": [
    "_chrome_option = webdriver.ChromeOptions()\n",
    "_chrome_option.add_argument(\"headless\")\n",
    "chrome_option = _chrome_option\n",
    "driver = webdriver.Chrome(chrome_options=chrome_option)\n"
   ]
  },
  {
   "cell_type": "code",
   "execution_count": null,
   "metadata": {},
   "outputs": [],
   "source": []
  },
  {
   "cell_type": "code",
   "execution_count": 4,
   "metadata": {},
   "outputs": [],
   "source": [
    "def get_list_person():\n",
    "    # Get json movie list from folder Movies\n",
    "    listMovies = os.listdir('Movies')\n",
    "    listPeople = []\n",
    "\n",
    "    for movie in listMovies:\n",
    "        # Verify movie is .json file\n",
    "        if (not(movie.endswith('.json'))):\n",
    "            break\n",
    "\n",
    "        # Create link of movie\n",
    "        url = 'Movies\\\\%s' % movie\n",
    "        # Get movie information\n",
    "        movieInfo = json.load(open(url, 'r'))\n",
    "        # Get list persons from movieInfo\n",
    "        listPeople += movieInfo['director'] + movieInfo['writer'] + movieInfo['actor'] + movieInfo['producer']\n",
    "\n",
    "    # Remove duplicated values\n",
    "    people = np.unique(listPeople)\n",
    "    return people"
   ]
  },
  {
   "cell_type": "code",
   "execution_count": null,
   "metadata": {},
   "outputs": [],
   "source": []
  },
  {
   "cell_type": "code",
   "execution_count": null,
   "metadata": {},
   "outputs": [],
   "source": []
  },
  {
   "cell_type": "code",
   "execution_count": null,
   "metadata": {},
   "outputs": [],
   "source": []
  },
  {
   "cell_type": "code",
   "execution_count": 5,
   "metadata": {},
   "outputs": [],
   "source": [
    "def get_person_info(url):\n",
    "    driver.get(url)\n",
    "    # driver.get(linkGenre)\n",
    "\n",
    "    id = url.split('id=')[1][:-4]\n",
    "    \n",
    "    try:\n",
    "        name = driver.find_element_by_xpath(PERSON_XPATH['name']).text\n",
    "        average = driver.find_element_by_xpath(PERSON_XPATH['average']).text.split('$')[1]\n",
    "        role = driver.find_element_by_xpath(PERSON_XPATH['role']).text.split('> ')[2]\n",
    "   \n",
    "\n",
    "        elements = driver.find_elements_by_xpath(PERSON_XPATH['movie']['date'])[1:]\n",
    "        date = [e.text for e in elements]\n",
    "\n",
    "\n",
    "        elements = driver.find_elements_by_xpath(PERSON_XPATH['movie']['title'])[1:]\n",
    "        title = [e.get_attribute('href')[41:-4] for e in elements]\n",
    "\n",
    "\n",
    "        elements = driver.find_elements_by_xpath(PERSON_XPATH['movie']['studio'])[1:]\n",
    "        studio = [e.get_attribute('href')[51:-4] for e in elements]\n",
    "\n",
    "        elements = driver.find_elements_by_xpath(PERSON_XPATH['movie']['lifetimeGross'])[1:]\n",
    "        lifetimeGross = [e.text[1:].replace(',','') for e in elements]\n",
    "\n",
    "        elements = driver.find_elements_by_xpath(PERSON_XPATH['movie']['opening'])[1:]\n",
    "        opening = [e.text[1:].replace(',','') for e in elements]\n",
    "    except:\n",
    "        return {\n",
    "            'id':id,\n",
    "            'name':'',\n",
    "            'role':'',\n",
    "            'average':'',\n",
    "            'movies':''\n",
    "        }\n",
    "\n",
    "\n",
    "    movies = pd.DataFrame({\n",
    "        'date': date,\n",
    "        'title': title,\n",
    "        'studio': studio,\n",
    "        'lifetimeGross': lifetimeGross,\n",
    "        'opening': opening\n",
    "    }).to_dict('records')\n",
    "\n",
    "    person = {\n",
    "        'id':id,\n",
    "        'name':name,\n",
    "        'role':role,\n",
    "        'average':average,\n",
    "        'movies':movies\n",
    "    }\n",
    "\n",
    "    return person\n"
   ]
  },
  {
   "cell_type": "code",
   "execution_count": null,
   "metadata": {
    "scrolled": true
   },
   "outputs": [],
   "source": []
  },
  {
   "cell_type": "code",
   "execution_count": 6,
   "metadata": {},
   "outputs": [
    {
     "data": {
      "text/plain": [
       "735"
      ]
     },
     "execution_count": 6,
     "metadata": {},
     "output_type": "execute_result"
    }
   ],
   "source": [
    "chrome_crawler = Chrome_Crawler()\n",
    "\n",
    "persons = get_list_person()\n",
    "len(np.unique(persons))"
   ]
  },
  {
   "cell_type": "code",
   "execution_count": 7,
   "metadata": {},
   "outputs": [],
   "source": [
    "file = open('more_people.txt', 'r')\n",
    "arr = file.read()\n",
    "# arr = file.readlines()\n",
    "# arr.remove('\\n')\n",
    "arr.split('\\n')\n",
    "file.close()"
   ]
  },
  {
   "cell_type": "code",
   "execution_count": 8,
   "metadata": {},
   "outputs": [],
   "source": [
    "def get_more_person_urls():\n",
    "    file = open('more_people.txt', 'r')\n",
    "    data = file.read()\n",
    "    file.close()\n",
    "    \n",
    "    persons = data.split('\\n')\n",
    "    listUrls = []\n",
    "    for person in persons:\n",
    "#         listUrls += (PEOPLE % person)\n",
    "        listUrls.append(PEOPLE % person)\n",
    "    \n",
    "    return listUrls\n",
    "    "
   ]
  },
  {
   "cell_type": "code",
   "execution_count": 9,
   "metadata": {},
   "outputs": [],
   "source": [
    "more_person_url = get_more_person_urls()\n",
    "len(more_person_url)\n",
    "morePersons = np.unique(more_person_url)\n",
    "len(morePersons)\n",
    "morePersons\n",
    "morePersons = morePersons[1:]"
   ]
  },
  {
   "cell_type": "code",
   "execution_count": 10,
   "metadata": {},
   "outputs": [
    {
     "data": {
      "text/plain": [
       "1630"
      ]
     },
     "execution_count": 10,
     "metadata": {},
     "output_type": "execute_result"
    }
   ],
   "source": [
    "people = np.concatenate((morePersons, persons), axis = 0)\n",
    "len(people)"
   ]
  },
  {
   "cell_type": "code",
   "execution_count": 11,
   "metadata": {},
   "outputs": [
    {
     "name": "stdout",
     "output_type": "stream",
     "text": [
      "Crawling person...\t0/1630\n",
      "\n",
      "Crawling person...\t50/1630\n",
      "\n",
      "Crawling person...\t100/1630\n",
      "\n",
      "Crawling person...\t150/1630\n",
      "\n",
      "exception: colinwilson\n",
      "Crawling person...\t200/1630\n",
      "\n",
      "Crawling person...\t250/1630\n",
      "\n",
      "Crawling person...\t300/1630\n",
      "\n",
      "Crawling person...\t350/1630\n",
      "\n",
      "Crawling person...\t400/1630\n",
      "\n",
      "Crawling person...\t450/1630\n",
      "\n",
      "Crawling person...\t500/1630\n",
      "\n",
      "Crawling person...\t550/1630\n",
      "\n",
      "Crawling person...\t600/1630\n",
      "\n",
      "Crawling person...\t650/1630\n",
      "\n",
      "Crawling person...\t700/1630\n",
      "\n",
      "Crawling person...\t750/1630\n",
      "\n",
      "Crawling person...\t800/1630\n",
      "\n",
      "Crawling person...\t850/1630\n",
      "\n",
      "Crawling person...\t900/1630\n",
      "\n",
      "Crawling person...\t950/1630\n",
      "\n",
      "Crawling person...\t1000/1630\n",
      "\n",
      "Crawling person...\t1050/1630\n",
      "\n",
      "Crawling person...\t1100/1630\n",
      "\n",
      "Crawling person...\t1150/1630\n",
      "\n",
      "Crawling person...\t1200/1630\n",
      "\n",
      "Crawling person...\t1250/1630\n",
      "\n",
      "Crawling person...\t1300/1630\n",
      "\n",
      "Crawling person...\t1350/1630\n",
      "\n",
      "Crawling person...\t1400/1630\n",
      "\n",
      "Crawling person...\t1450/1630\n",
      "\n",
      "Crawling person...\t1500/1630\n",
      "\n",
      "Crawling person...\t1550/1630\n",
      "\n",
      "Crawling person...\t1600/1630\n",
      "\n"
     ]
    }
   ],
   "source": [
    "_round = 0\n",
    "\n",
    "while _round < len(people):\n",
    "    person = get_person_info(people[_round])\n",
    "    id = person['id']\n",
    "    if (person['name'] == ''):\n",
    "        print('exception: %s' % id)\n",
    "        with open('PersonExceptions.txt', 'a+') as f_except:\n",
    "            f_except.write(id + '\\n')\n",
    "        _round += 1\n",
    "        continue\n",
    "            \n",
    "    try:\n",
    "        with open('Persons/%s.json' % id, 'w') as fp:\n",
    "            json.dump(person, fp)\n",
    "\n",
    "        time.sleep(np.random.randint(1,4)/4)\n",
    "\n",
    "        # Reset driver:\n",
    "        if ((_round % 50 == 0) or (_round == len(people))):\n",
    "            print (\"Crawling person...\\t%d/%d\\n\"%(_round, len(people)))\n",
    "            chrome_crawler.restart_crawler(delay_time=15)\n",
    "    except:\n",
    "        print('exception: %s' % id)\n",
    "        with open('PersonExceptions.txt', 'a+') as f_except:\n",
    "            f_except.write(id + '\\n')\n",
    "            \n",
    "    _round += 1"
   ]
  },
  {
   "cell_type": "code",
   "execution_count": null,
   "metadata": {},
   "outputs": [],
   "source": []
  },
  {
   "cell_type": "code",
   "execution_count": 13,
   "metadata": {},
   "outputs": [
    {
     "data": {
      "text/plain": [
       "1539"
      ]
     },
     "execution_count": 13,
     "metadata": {},
     "output_type": "execute_result"
    }
   ],
   "source": [
    "len(os.listdir('Persons'))"
   ]
  },
  {
   "cell_type": "code",
   "execution_count": null,
   "metadata": {},
   "outputs": [],
   "source": []
  }
 ],
 "metadata": {
  "kernelspec": {
   "display_name": "Python 3",
   "language": "python",
   "name": "python3"
  },
  "language_info": {
   "codemirror_mode": {
    "name": "ipython",
    "version": 3
   },
   "file_extension": ".py",
   "mimetype": "text/x-python",
   "name": "python",
   "nbconvert_exporter": "python",
   "pygments_lexer": "ipython3",
   "version": "3.6.5"
  }
 },
 "nbformat": 4,
 "nbformat_minor": 2
}
