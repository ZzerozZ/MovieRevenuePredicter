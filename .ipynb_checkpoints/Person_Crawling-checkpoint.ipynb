{
 "cells": [
  {
   "cell_type": "code",
   "execution_count": 50,
   "metadata": {},
   "outputs": [],
   "source": [
    "from chrome_crawler import Chrome_Crawler\n",
    "from lib import *\n",
    "from person import *"
   ]
  },
  {
   "cell_type": "code",
   "execution_count": null,
   "metadata": {
    "scrolled": true
   },
   "outputs": [],
   "source": []
  },
  {
   "cell_type": "code",
   "execution_count": 45,
   "metadata": {},
   "outputs": [],
   "source": [
    "PERSON_XPATH = {\n",
    "    'name':'/html[1]/body[1]/div[1]/div[3]/div[2]/table[2]/tbody[1]/tr[1]/td[1]/h1[1]',\n",
    "    'movie': {\n",
    "        'date'          :'/html[1]/body[1]/div[1]/div[3]/div[2]/table[2]/tbody[1]/tr[1]/td[1]/table[1]/tbody[1]/tr/td[1]/font[1]',\n",
    "        'title'         :'/html[1]/body[1]/div[1]/div[3]/div[2]/table[2]/tbody[1]/tr[1]/td[1]/table[1]/tbody[1]/tr/td[2]/font[1]/a[1]',\n",
    "        'studio'        :'/html[1]/body[1]/div[1]/div[3]/div[2]/table[2]/tbody[1]/tr[1]/td[1]/table[1]/tbody[1]/tr/td[3]/font[1]/a[1]',\n",
    "        'lifetimeGross' :'/html[1]/body[1]/div[1]/div[3]/div[2]/table[2]/tbody[1]/tr[1]/td[1]/table[1]/tbody[1]/tr/td[4]/font[1]',\n",
    "        'opening'       :'/html[1]/body[1]/div[1]/div[3]/div[2]/table[2]/tbody[1]/tr[1]/td[1]/table[1]/tbody[1]/tr/td[6]/font[1]',\n",
    "    },\n",
    "    'average':'/html[1]/body[1]/div[1]/div[3]/div[2]/table[2]/tbody[1]/tr[1]/td[1]/font[2]/b[1]'\n",
    "}"
   ]
  },
  {
   "cell_type": "code",
   "execution_count": 46,
   "metadata": {},
   "outputs": [
    {
     "name": "stderr",
     "output_type": "stream",
     "text": [
      "C:\\ProgramData\\Anaconda3\\lib\\site-packages\\ipykernel_launcher.py:4: DeprecationWarning: use options instead of chrome_options\n",
      "  after removing the cwd from sys.path.\n"
     ]
    }
   ],
   "source": [
    "_chrome_option = webdriver.ChromeOptions()\n",
    "_chrome_option.add_argument(\"headless\")\n",
    "chrome_option = _chrome_option\n",
    "driver = webdriver.Chrome(chrome_options=chrome_option)\n"
   ]
  },
  {
   "cell_type": "code",
   "execution_count": null,
   "metadata": {},
   "outputs": [],
   "source": []
  },
  {
   "cell_type": "code",
   "execution_count": 47,
   "metadata": {},
   "outputs": [],
   "source": [
    "def get_list_person():\n",
    "    # Get json movie list from folder Movies\n",
    "    listMovies = os.listdir('Movies')\n",
    "    listPeople = []\n",
    "\n",
    "    for movie in listMovies:\n",
    "        # Verify movie is .json file\n",
    "        if (not(movie.endswith('.json'))):\n",
    "            break\n",
    "\n",
    "        # Create link of movie\n",
    "        url = 'Movies\\\\%s' % movie\n",
    "        # Get movie information\n",
    "        movieInfo = json.load(open(url, 'r'))\n",
    "        # Get list persons from movieInfo\n",
    "        listPeople += movieInfo['director'] + movieInfo['writer'] + movieInfo['actor'] + movieInfo['producer']\n",
    "\n",
    "    # Remove duplicated values\n",
    "    people = np.unique(listPeople)\n",
    "    return people"
   ]
  },
  {
   "cell_type": "code",
   "execution_count": null,
   "metadata": {},
   "outputs": [],
   "source": []
  },
  {
   "cell_type": "code",
   "execution_count": null,
   "metadata": {},
   "outputs": [],
   "source": []
  },
  {
   "cell_type": "code",
   "execution_count": null,
   "metadata": {},
   "outputs": [],
   "source": []
  },
  {
   "cell_type": "code",
   "execution_count": 48,
   "metadata": {},
   "outputs": [],
   "source": [
    "def get_person_info(url):\n",
    "    driver.get(url)\n",
    "    # driver.get(linkGenre)\n",
    "\n",
    "    id = url.split('id=')[1][:-4]\n",
    "    role = url.split('view=')[1].split('&')[0]\n",
    "\n",
    "    name = driver.find_element_by_xpath(PERSON_XPATH['name']).text\n",
    "    average = driver.find_element_by_xpath(PERSON_XPATH['average']).text.split('$')[1]\n",
    "\n",
    "    elements = driver.find_elements_by_xpath(PERSON_XPATH['movie']['date'])[1:]\n",
    "    date = [e.text for e in elements]\n",
    "\n",
    "\n",
    "    elements = driver.find_elements_by_xpath(PERSON_XPATH['movie']['title'])[1:]\n",
    "    title = [e.get_attribute('href')[41:-4] for e in elements]\n",
    "\n",
    "\n",
    "    elements = driver.find_elements_by_xpath(PERSON_XPATH['movie']['studio'])[1:]\n",
    "    studio = [e.get_attribute('href')[51:-4] for e in elements]\n",
    "\n",
    "    elements = driver.find_elements_by_xpath(PERSON_XPATH['movie']['lifetimeGross'])[1:]\n",
    "    lifetimeGross = [e.text[1:].replace(',','') for e in elements]\n",
    "\n",
    "    elements = driver.find_elements_by_xpath(PERSON_XPATH['movie']['opening'])[1:]\n",
    "    opening = [e.text[1:].replace(',','') for e in elements]\n",
    "    opening\n",
    "\n",
    "\n",
    "    movies = pd.DataFrame({\n",
    "        'date': date,\n",
    "        'title': title,\n",
    "        'studio': studio,\n",
    "        'lifetimeGross': lifetimeGross,\n",
    "        'opening': opening\n",
    "    }).to_dict('records')\n",
    "\n",
    "    person = {\n",
    "        'id':id,\n",
    "        'name':name,\n",
    "        'role':role,\n",
    "        'average':average,\n",
    "        'movies':movies\n",
    "    }\n",
    "\n",
    "    return person\n"
   ]
  },
  {
   "cell_type": "code",
   "execution_count": null,
   "metadata": {
    "scrolled": true
   },
   "outputs": [],
   "source": []
  },
  {
   "cell_type": "code",
   "execution_count": 49,
   "metadata": {},
   "outputs": [
    {
     "data": {
      "text/plain": [
       "735"
      ]
     },
     "execution_count": 49,
     "metadata": {},
     "output_type": "execute_result"
    }
   ],
   "source": [
    "person_crawler = Person_Crawler()\n",
    "\n",
    "persons = get_list_person()\n",
    "len(np.unique(persons))"
   ]
  },
  {
   "cell_type": "code",
   "execution_count": 6,
   "metadata": {},
   "outputs": [
    {
     "name": "stdout",
     "output_type": "stream",
     "text": [
      "Crawling person...\t0/735\n",
      "\n",
      "Crawling person...\t50/735\n",
      "\n",
      "Crawling person...\t100/735\n",
      "\n",
      "Crawling person...\t150/735\n",
      "\n",
      "Crawling person...\t200/735\n",
      "\n",
      "Crawling person...\t250/735\n",
      "\n",
      "Crawling person...\t300/735\n",
      "\n",
      "Crawling person...\t350/735\n",
      "\n",
      "Crawling person...\t400/735\n",
      "\n",
      "Crawling person...\t450/735\n",
      "\n",
      "Crawling person...\t500/735\n",
      "\n",
      "Crawling person...\t550/735\n",
      "\n",
      "Crawling person...\t600/735\n",
      "\n",
      "Crawling person...\t650/735\n",
      "\n",
      "Crawling person...\t700/735\n",
      "\n"
     ]
    }
   ],
   "source": [
    "_round = 0\n",
    "\n",
    "while _round < len(persons):\n",
    "    person = get_person_info(persons[_round])\n",
    "    id = person['id']\n",
    "    try:\n",
    "        with open('Persons/%s.json' % id, 'w') as fp:\n",
    "            json.dump(person, fp)\n",
    "\n",
    "        time.sleep(np.random.randint(1,4)/4)\n",
    "\n",
    "        # Reset driver:\n",
    "        if _round % 50 == 0:\n",
    "            print (\"Crawling person...\\t%d/%d\\n\"%(_round, len(persons)))\n",
    "            person_crawler.restart_crawler(delay_time=15)\n",
    "            \n",
    "        _round += 1\n",
    "    except:\n",
    "        print('exception: %s' % id)\n",
    "        with open('PersonExceptions.txt', 'a+') as f_except:\n",
    "            f_except.write(id + '\\n')"
   ]
  },
  {
   "cell_type": "code",
   "execution_count": null,
   "metadata": {},
   "outputs": [],
   "source": []
  },
  {
   "cell_type": "code",
   "execution_count": null,
   "metadata": {},
   "outputs": [],
   "source": []
  },
  {
   "cell_type": "code",
   "execution_count": null,
   "metadata": {},
   "outputs": [],
   "source": []
  },
  {
   "cell_type": "code",
   "execution_count": null,
   "metadata": {},
   "outputs": [],
   "source": []
  },
  {
   "cell_type": "code",
   "execution_count": null,
   "metadata": {},
   "outputs": [],
   "source": []
  },
  {
   "cell_type": "code",
   "execution_count": null,
   "metadata": {},
   "outputs": [],
   "source": []
  },
  {
   "cell_type": "code",
   "execution_count": null,
   "metadata": {},
   "outputs": [],
   "source": []
  }
 ],
 "metadata": {
  "kernelspec": {
   "display_name": "Python 3",
   "language": "python",
   "name": "python3"
  },
  "language_info": {
   "codemirror_mode": {
    "name": "ipython",
    "version": 3
   },
   "file_extension": ".py",
   "mimetype": "text/x-python",
   "name": "python",
   "nbconvert_exporter": "python",
   "pygments_lexer": "ipython3",
   "version": "3.6.5"
  }
 },
 "nbformat": 4,
 "nbformat_minor": 2
}
